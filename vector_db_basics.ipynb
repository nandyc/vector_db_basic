{
  "nbformat": 4,
  "nbformat_minor": 0,
  "metadata": {
    "colab": {
      "provenance": [],
      "authorship_tag": "ABX9TyM2mdFiQi7xDTxjRxZKdT/s",
      "include_colab_link": true
    },
    "kernelspec": {
      "name": "python3",
      "display_name": "Python 3"
    },
    "language_info": {
      "name": "python"
    }
  },
  "cells": [
    {
      "cell_type": "markdown",
      "metadata": {
        "id": "view-in-github",
        "colab_type": "text"
      },
      "source": [
        "<a href=\"https://colab.research.google.com/github/nandyc/vector_db_basic/blob/main/vector_db_basics.ipynb\" target=\"_parent\"><img src=\"https://colab.research.google.com/assets/colab-badge.svg\" alt=\"Open In Colab\"/></a>"
      ]
    },
    {
      "cell_type": "code",
      "execution_count": 1,
      "metadata": {
        "id": "DBpp35NzXY8N",
        "outputId": "3eb391dc-ff18-445f-9477-3926e63fda43",
        "colab": {
          "base_uri": "https://localhost:8080/"
        }
      },
      "outputs": [
        {
          "output_type": "stream",
          "name": "stdout",
          "text": [
            "Cloning into 'vector_db_basic'...\n",
            "remote: Enumerating objects: 11, done.\u001b[K\n",
            "remote: Counting objects: 100% (11/11), done.\u001b[K\n",
            "remote: Compressing objects: 100% (9/9), done.\u001b[K\n",
            "remote: Total 11 (delta 2), reused 0 (delta 0), pack-reused 0 (from 0)\u001b[K\n",
            "Receiving objects: 100% (11/11), 8.90 KiB | 8.90 MiB/s, done.\n",
            "Resolving deltas: 100% (2/2), done.\n"
          ]
        }
      ],
      "source": [
        "!git clone https://github.com/nandyc/vector_db_basic.git"
      ]
    },
    {
      "cell_type": "code",
      "source": [
        "%cd vector_db_basic"
      ],
      "metadata": {
        "id": "NzU8XaQlY0Hf",
        "outputId": "69f6b255-5a8c-4e31-bdce-4f1f9043ed0b",
        "colab": {
          "base_uri": "https://localhost:8080/"
        }
      },
      "execution_count": 2,
      "outputs": [
        {
          "output_type": "stream",
          "name": "stdout",
          "text": [
            "/content/vector_db_basic\n"
          ]
        }
      ]
    },
    {
      "cell_type": "code",
      "source": [
        "%%capture\n",
        "!pip install chromadb"
      ],
      "metadata": {
        "id": "r6LE5Jj5YFGg"
      },
      "execution_count": 3,
      "outputs": []
    },
    {
      "cell_type": "code",
      "source": [
        "import chromadb\n",
        "chroma_client = chromadb.Client()"
      ],
      "metadata": {
        "id": "DSWNmtUzX1M9"
      },
      "execution_count": 4,
      "outputs": []
    },
    {
      "cell_type": "code",
      "source": [
        "collection_name = \"test_collection\""
      ],
      "metadata": {
        "id": "f_t4yn7yYDXT"
      },
      "execution_count": 5,
      "outputs": []
    },
    {
      "cell_type": "code",
      "source": [
        "collection = chroma_client.get_or_create_collection(collection_name)"
      ],
      "metadata": {
        "id": "0nmFQhQlYOGB"
      },
      "execution_count": 6,
      "outputs": []
    },
    {
      "cell_type": "code",
      "source": [
        "documents = [\n",
        "    {\"id\": \"1\", \"content\": \"Hello, world\"},\n",
        "    {\"id\": \"2\", \"content\": \"How are you today ?\"},\n",
        "    {\"id\": \"3\", \"content\": \"Goodbye, see you later\"}\n",
        "]"
      ],
      "metadata": {
        "id": "Cc3xdN02YmQD"
      },
      "execution_count": 7,
      "outputs": []
    },
    {
      "cell_type": "code",
      "source": [
        "for doc in documents:\n",
        "  collection.upsert(ids=doc[\"id\"], documents= [doc[\"content\"]] )"
      ],
      "metadata": {
        "id": "hYr2nZP9ZTo-",
        "outputId": "7bf759af-b738-4b2a-ab84-e284a3a0b026",
        "colab": {
          "base_uri": "https://localhost:8080/"
        }
      },
      "execution_count": 8,
      "outputs": [
        {
          "output_type": "stream",
          "name": "stderr",
          "text": [
            "/root/.cache/chroma/onnx_models/all-MiniLM-L6-v2/onnx.tar.gz: 100%|██████████| 79.3M/79.3M [00:02<00:00, 37.2MiB/s]\n"
          ]
        }
      ]
    },
    {
      "cell_type": "code",
      "source": [
        "query = \"talk to you later\""
      ],
      "metadata": {
        "id": "rPL0XsuMZD5B"
      },
      "execution_count": 18,
      "outputs": []
    },
    {
      "cell_type": "code",
      "source": [
        "results = collection.query(query_texts=[query], n_results=3)"
      ],
      "metadata": {
        "id": "0kdhTk65ZS4h"
      },
      "execution_count": 19,
      "outputs": []
    },
    {
      "cell_type": "code",
      "source": [
        "print(results)"
      ],
      "metadata": {
        "id": "--FzTY__asGN",
        "outputId": "5ad00579-375b-403d-d32b-99d13a30b2d3",
        "colab": {
          "base_uri": "https://localhost:8080/"
        }
      },
      "execution_count": 20,
      "outputs": [
        {
          "output_type": "stream",
          "name": "stdout",
          "text": [
            "{'ids': [['3', '2', '1']], 'distances': [[0.9898926019668579, 1.4978803396224976, 1.6134583950042725]], 'metadatas': [[None, None, None]], 'embeddings': None, 'documents': [['Goodbye, see you later', 'How are you today ?', 'Hello, world']], 'uris': None, 'data': None, 'included': ['metadatas', 'documents', 'distances']}\n"
          ]
        }
      ]
    },
    {
      "cell_type": "code",
      "source": [
        "for idx, document in enumerate(results[\"documents\"][0]):\n",
        "  # for doc in documents:\n",
        "  #   print(f\" - Document ID: {doc['id']}\")\n",
        "  #   print(f\" - Document Content: {doc['content']}\")\n",
        "  doc_id = results['ids'][0][idx]\n",
        "  distance = results['distances'][0][idx]\n",
        "  print(f\" for the query : {query}, \\n Found similar documents: {document} (ID: {doc_id}, Distance: {distance})\\n\\n\")\n",
        "\n"
      ],
      "metadata": {
        "id": "8TiFqaLKbVSJ",
        "outputId": "99da7b80-7253-4cc2-ddde-7884f0c28b56",
        "colab": {
          "base_uri": "https://localhost:8080/"
        }
      },
      "execution_count": 21,
      "outputs": [
        {
          "output_type": "stream",
          "name": "stdout",
          "text": [
            " for the query : talk to you later, \n",
            " Found similar documents: Goodbye, see you later (ID: 3, Distance: 0.9898926019668579)\n",
            "\n",
            "\n",
            " for the query : talk to you later, \n",
            " Found similar documents: How are you today ? (ID: 2, Distance: 1.4978803396224976)\n",
            "\n",
            "\n",
            " for the query : talk to you later, \n",
            " Found similar documents: Hello, world (ID: 1, Distance: 1.6134583950042725)\n",
            "\n",
            "\n"
          ]
        }
      ]
    }
  ]
}